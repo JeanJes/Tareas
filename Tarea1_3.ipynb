{
 "cells": [
  {
   "cell_type": "code",
   "execution_count": 1,
   "id": "3c4fbb34",
   "metadata": {},
   "outputs": [],
   "source": [
    "from pylab import *"
   ]
  },
  {
   "cell_type": "code",
   "execution_count": null,
   "id": "aad629b0",
   "metadata": {},
   "outputs": [],
   "source": []
  },
  {
   "cell_type": "code",
   "execution_count": 3,
   "id": "bd521f21",
   "metadata": {},
   "outputs": [],
   "source": [
    "def deriv_h3(x,f):\n",
    "    # Ojo esta deivada en las orillas tiene menos precision\n",
    "    f_prima = zeros_like(f)\n",
    "    dosh , h = x[2]-x[0] , x[1]-x[0] \n",
    "    for i in range(1,len(f)-1):\n",
    "        f_prima[i] = (f[i+1]-f[i-1])/dosh\n",
    "    f_prima[0] = (-0.5*f[2] + 2*f[1] - 1.5*f[0])/h\n",
    "    f_prima[-1] = -(-0.5*f[-3] + 2*f[-2] - 1.5*f[-1])/h\n",
    "    return f_prima"
   ]
  },
  {
   "cell_type": "code",
   "execution_count": 5,
   "id": "85e36ac4",
   "metadata": {},
   "outputs": [],
   "source": [
    "x = linspace(0,3*pi,50)\n",
    "f = e^{-x^2}*Sin(10*x)\n",
    "g = -(2/x^{6}) + (1/x^{12})\n",
    "# derivada analitica\n",
    "df = 12*(1/x^{7}) - 12*(1/x^{13})\n",
    "dg = -84*x^{-8} + 156*x^{-14}\n",
    "\n",
    "dy = sin(x)+x*cos(x)\n",
    "dy_h2 = deriv_h3(x,y)"
   ]
  },
  {
   "cell_type": "code",
   "execution_count": null,
   "id": "c9a1f6a3",
   "metadata": {},
   "outputs": [],
   "source": []
  },
  {
   "cell_type": "code",
   "execution_count": null,
   "id": "1471e1a6",
   "metadata": {},
   "outputs": [],
   "source": []
  }
 ],
 "metadata": {
  "kernelspec": {
   "display_name": "Python 3 (ipykernel)",
   "language": "python",
   "name": "python3"
  },
  "language_info": {
   "codemirror_mode": {
    "name": "ipython",
    "version": 3
   },
   "file_extension": ".py",
   "mimetype": "text/x-python",
   "name": "python",
   "nbconvert_exporter": "python",
   "pygments_lexer": "ipython3",
   "version": "3.9.13"
  }
 },
 "nbformat": 4,
 "nbformat_minor": 5
}
