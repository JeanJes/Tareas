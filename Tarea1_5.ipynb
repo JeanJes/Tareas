{
 "cells": [
  {
   "cell_type": "code",
   "execution_count": 4,
   "id": "b90a74f9",
   "metadata": {},
   "outputs": [],
   "source": [
    "from pylab import *\n",
    "import csv"
   ]
  },
  {
   "cell_type": "code",
   "execution_count": null,
   "id": "38e3f4df",
   "metadata": {},
   "outputs": [],
   "source": [
    "#hacer llamado al programa de los datos"
   ]
  },
  {
   "cell_type": "code",
   "execution_count": 5,
   "id": "513db39d",
   "metadata": {},
   "outputs": [],
   "source": [
    "def primitiva_v2(x,f):\n",
    "    N , h = len(f) , x[1]-x[0]\n",
    "    if N%2 == 1:\n",
    "        print('primer caso')\n",
    "        N_cut = int( (N-1)/2 +1 )\n",
    "        x_c , F = zeros(N_cut) , zeros(N_cut)\n",
    "        for i in range(N_cut):\n",
    "            x_c[i] = x[2*i]\n",
    "        for i in range(N_cut-1):\n",
    "            F[i+1] += F[i] + f[2*i+2] + 4*f[2*i+1] + f[2*i]\n",
    "    else:\n",
    "        print('segundo caso')\n",
    "        N_cut = int(N/2 +1)\n",
    "        x_c , F = zeros(N_cut) , zeros(N_cut)\n",
    "        x_c[0] , x_c[1] = x[0] , x[1]\n",
    "        for i in range(1,N_cut-1):\n",
    "            x_c[i+1] = x[2*i+1]\n",
    "        F[1] = (23*f[0] + 26*f[1] - 4*f[2] + 6*f[3] - 3*f[4])*0.0625\n",
    "        for i in range(1,N_cut-1):\n",
    "            F[i+1] += F[i] + f[2*i+1] + 4*f[2*i] + f[2*i-1]\n",
    "    return x_c , F*h/3"
   ]
  },
  {
   "cell_type": "code",
   "execution_count": null,
   "id": "8a2393d1",
   "metadata": {},
   "outputs": [],
   "source": [
    "x_c , prim_y1 , prim_y2 , prim_y3 = primitiva_v2(coord[0,:],coord[1,:],coord[2,:],coord[3,:])\n",
    "plot(x_c ,prim_y1-1 )\n",
    "plot(x_c ,prim_y2-1 )\n",
    "plot(x_c ,prim_y3-1 )"
   ]
  },
  {
   "cell_type": "code",
   "execution_count": null,
   "id": "10a57a48",
   "metadata": {},
   "outputs": [],
   "source": []
  },
  {
   "cell_type": "code",
   "execution_count": null,
   "id": "59b5fbea",
   "metadata": {},
   "outputs": [],
   "source": []
  },
  {
   "cell_type": "code",
   "execution_count": null,
   "id": "7d9fed75",
   "metadata": {},
   "outputs": [],
   "source": []
  },
  {
   "cell_type": "code",
   "execution_count": null,
   "id": "997c3ef0",
   "metadata": {},
   "outputs": [],
   "source": []
  },
  {
   "cell_type": "code",
   "execution_count": null,
   "id": "a7602e84",
   "metadata": {},
   "outputs": [],
   "source": []
  }
 ],
 "metadata": {
  "kernelspec": {
   "display_name": "Python 3 (ipykernel)",
   "language": "python",
   "name": "python3"
  },
  "language_info": {
   "codemirror_mode": {
    "name": "ipython",
    "version": 3
   },
   "file_extension": ".py",
   "mimetype": "text/x-python",
   "name": "python",
   "nbconvert_exporter": "python",
   "pygments_lexer": "ipython3",
   "version": "3.9.13"
  }
 },
 "nbformat": 4,
 "nbformat_minor": 5
}
